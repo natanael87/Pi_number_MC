{
 "cells": [
  {
   "cell_type": "code",
   "execution_count": 1,
   "metadata": {
    "collapsed": true
   },
   "outputs": [],
   "source": [
    "import numpy as np"
   ]
  },
  {
   "cell_type": "code",
   "execution_count": 12,
   "metadata": {
    "collapsed": false
   },
   "outputs": [
    {
     "name": "stdout",
     "output_type": "stream",
     "text": [
      "pi =  3.13988\n",
      "pi =  3.14492\n",
      "pi =  3.13532\n",
      "pi =  3.14992\n",
      "pi =  3.14076\n",
      "pi =  3.15028\n",
      "pi =  3.14144\n",
      "pi =  3.14468\n",
      "pi =  3.14376\n",
      "pi =  3.13916\n",
      "pi =  3.14308\n",
      "pi =  3.14004\n",
      "pi =  3.14092\n",
      "pi =  3.14552\n",
      "pi =  3.13464\n",
      "pi =  3.13704\n",
      "pi =  3.1486\n",
      "pi =  3.13856\n",
      "pi =  3.13172\n",
      "pi =  3.14708\n",
      "pi =  3.13976\n",
      "pi =  3.14076\n",
      "pi =  3.13012\n",
      "pi =  3.14376\n",
      "pi =  3.14248\n",
      "pi =  3.1434\n",
      "pi =  3.14616\n",
      "pi =  3.14004\n",
      "pi =  3.13496\n",
      "pi =  3.12828\n",
      "pi =  3.14396\n",
      "pi =  3.13892\n",
      "pi =  3.1304\n",
      "pi =  3.13968\n",
      "pi =  3.14936\n",
      "pi =  3.14528\n",
      "pi =  3.13956\n",
      "pi =  3.13756\n",
      "pi =  3.1422\n",
      "pi =  3.13728\n",
      "pi =  3.14512\n",
      "pi =  3.14092\n",
      "pi =  3.13864\n",
      "pi =  3.14104\n",
      "pi =  3.14652\n",
      "pi =  3.14036\n",
      "pi =  3.14444\n",
      "pi =  3.14368\n",
      "pi =  3.13476\n",
      "pi =  3.12864\n",
      "Average =  3.1407072\n"
     ]
    }
   ],
   "source": [
    "N=100000 #number of times that a point is trown\n",
    "tries = 50 #number of tries that the experiment is donde\n",
    "api=np.zeros(tries)\n",
    "ii=0\n",
    "while ii < tries:\n",
    "    x = np.random.rand(N)\n",
    "    y = np.random.rand(N)\n",
    "    inc=0\n",
    "    outc=0\n",
    "    for i in range(N):\n",
    "        if (x[i]-0.5)**2+(y[i]-0.5)**2<=0.5**2:\n",
    "            inc += 1\n",
    "        else:\n",
    "            outc += 1\n",
    "        api[ii] = 4*inc/N\n",
    "    ii += 1\n",
    "for i in range(tries):\n",
    "    print(\"pi = \", api[i])\n",
    "print (\"Average = \", np.average(api))"
   ]
  },
  {
   "cell_type": "code",
   "execution_count": null,
   "metadata": {
    "collapsed": true
   },
   "outputs": [],
   "source": []
  }
 ],
 "metadata": {
  "kernelspec": {
   "display_name": "Python 3",
   "language": "python",
   "name": "python3"
  },
  "language_info": {
   "codemirror_mode": {
    "name": "ipython",
    "version": 3
   },
   "file_extension": ".py",
   "mimetype": "text/x-python",
   "name": "python",
   "nbconvert_exporter": "python",
   "pygments_lexer": "ipython3",
   "version": "3.6.0"
  }
 },
 "nbformat": 4,
 "nbformat_minor": 2
}
