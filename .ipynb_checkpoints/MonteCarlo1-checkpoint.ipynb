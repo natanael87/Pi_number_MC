{
 "cells": [
  {
   "cell_type": "code",
   "execution_count": 3,
   "metadata": {
    "collapsed": true
   },
   "outputs": [],
   "source": [
    "import numpy as np"
   ]
  },
  {
   "cell_type": "code",
   "execution_count": 48,
   "metadata": {
    "collapsed": false
   },
   "outputs": [
    {
     "data": {
      "text/plain": [
       "(array([ 0.04147895,  0.30311174,  0.6368431 , ...,  0.65882237,\n",
       "         0.16397894,  0.1861421 ]),\n",
       " array([ 0.32685394,  0.89334286,  0.68779488, ...,  0.54589221,\n",
       "         0.4229806 ,  0.02747138]))"
      ]
     },
     "execution_count": 48,
     "metadata": {},
     "output_type": "execute_result"
    }
   ],
   "source": [
    "N=100000 #number of times that a point is trown\n",
    "x = np.random.rand(N)\n",
    "y = np.random.rand(N)\n",
    "x, y"
   ]
  },
  {
   "cell_type": "code",
   "execution_count": 49,
   "metadata": {
    "collapsed": false
   },
   "outputs": [
    {
     "name": "stdout",
     "output_type": "stream",
     "text": [
      "78702 21298\n"
     ]
    }
   ],
   "source": [
    "inc=0\n",
    "outc=0\n",
    "for i in range(N):\n",
    "    if (x[i]-0.5)**2+(y[i]-0.5)**2<=0.5**2:\n",
    "        inc += 1\n",
    "    else:\n",
    "        outc += 1\n",
    "print (inc, outc)"
   ]
  },
  {
   "cell_type": "code",
   "execution_count": 50,
   "metadata": {
    "collapsed": false
   },
   "outputs": [
    {
     "data": {
      "text/plain": [
       "3.14808"
      ]
     },
     "execution_count": 50,
     "metadata": {},
     "output_type": "execute_result"
    }
   ],
   "source": [
    "pi1=4*inc/N\n",
    "pi1"
   ]
  },
  {
   "cell_type": "code",
   "execution_count": null,
   "metadata": {
    "collapsed": true
   },
   "outputs": [],
   "source": []
  }
 ],
 "metadata": {
  "kernelspec": {
   "display_name": "Python 3",
   "language": "python",
   "name": "python3"
  },
  "language_info": {
   "codemirror_mode": {
    "name": "ipython",
    "version": 3
   },
   "file_extension": ".py",
   "mimetype": "text/x-python",
   "name": "python",
   "nbconvert_exporter": "python",
   "pygments_lexer": "ipython3",
   "version": "3.6.0"
  }
 },
 "nbformat": 4,
 "nbformat_minor": 2
}
